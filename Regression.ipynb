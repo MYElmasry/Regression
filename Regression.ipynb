{
  "nbformat": 4,
  "nbformat_minor": 0,
  "metadata": {
    "colab": {
      "provenance": [],
      "mount_file_id": "1CgtCAfPYaoZ3MckI5X_6uvMyjut-DXWH",
      "authorship_tag": "ABX9TyMGMr4MK7j8E7Tza65x5rhF",
      "include_colab_link": true
    },
    "kernelspec": {
      "name": "python3",
      "display_name": "Python 3"
    },
    "language_info": {
      "name": "python"
    }
  },
  "cells": [
    {
      "cell_type": "markdown",
      "metadata": {
        "id": "view-in-github",
        "colab_type": "text"
      },
      "source": [
        "<a href=\"https://colab.research.google.com/github/MYElmasry/Regression/blob/main/Regression.ipynb\" target=\"_parent\"><img src=\"https://colab.research.google.com/assets/colab-badge.svg\" alt=\"Open In Colab\"/></a>"
      ]
    },
    {
      "cell_type": "markdown",
      "source": [
        "# **Regression For One Variable**"
      ],
      "metadata": {
        "id": "CqQdLjzjxMsO"
      }
    },
    {
      "cell_type": "code",
      "execution_count": 1,
      "metadata": {
        "id": "HIgFzAu7j2sW"
      },
      "outputs": [],
      "source": [
        "import numpy as np\n",
        "import pandas as pd\n",
        "import matplotlib.pyplot as plt"
      ]
    },
    {
      "cell_type": "code",
      "source": [
        "path = '/content/drive/MyDrive/ex1data1.txt'\n",
        "data = pd.read_csv(path, header=None, names=['Population', 'Profit'])"
      ],
      "metadata": {
        "id": "wyXyo8qfj4UJ"
      },
      "execution_count": 2,
      "outputs": []
    },
    {
      "cell_type": "code",
      "source": [
        "#show data details\n",
        "print('data = \\n' ,data.head(10) )\n",
        "print('**************************************')\n",
        "print('data.describe = \\n',data.describe())"
      ],
      "metadata": {
        "colab": {
          "base_uri": "https://localhost:8080/"
        },
        "id": "uctplmg2kGg1",
        "outputId": "39a874d4-7ac8-4b2a-e18e-d0f10519abe5"
      },
      "execution_count": 6,
      "outputs": [
        {
          "output_type": "stream",
          "name": "stdout",
          "text": [
            "data = \n",
            "    Ones  Population   Profit\n",
            "0     1      6.1101  17.5920\n",
            "1     1      5.5277   9.1302\n",
            "2     1      8.5186  13.6620\n",
            "3     1      7.0032  11.8540\n",
            "4     1      5.8598   6.8233\n",
            "5     1      8.3829  11.8860\n",
            "6     1      7.4764   4.3483\n",
            "7     1      8.5781  12.0000\n",
            "8     1      6.4862   6.5987\n",
            "9     1      5.0546   3.8166\n",
            "**************************************\n",
            "data.describe = \n",
            "        Ones  Population     Profit\n",
            "count  97.0   97.000000  97.000000\n",
            "mean    1.0    8.159800   5.839135\n",
            "std     0.0    3.869884   5.510262\n",
            "min     1.0    5.026900  -2.680700\n",
            "25%     1.0    5.707700   1.986900\n",
            "50%     1.0    6.589400   4.562300\n",
            "75%     1.0    8.578100   7.046700\n",
            "max     1.0   22.203000  24.147000\n"
          ]
        }
      ]
    },
    {
      "cell_type": "code",
      "source": [
        "#draw data\n",
        "data.plot(kind='scatter', x='Population', y='Profit', figsize=(5,5))"
      ],
      "metadata": {
        "colab": {
          "base_uri": "https://localhost:8080/",
          "height": 351
        },
        "id": "vLN20KC9sGdT",
        "outputId": "d3e15045-85b7-48c5-b7fe-a85b247553f7"
      },
      "execution_count": 4,
      "outputs": [
        {
          "output_type": "execute_result",
          "data": {
            "text/plain": [
              "<matplotlib.axes._subplots.AxesSubplot at 0x7f23def45550>"
            ]
          },
          "metadata": {},
          "execution_count": 4
        },
        {
          "output_type": "display_data",
          "data": {
            "text/plain": [
              "<Figure size 360x360 with 1 Axes>"
            ],
            "image/png": "[encoded data removed]"
          },
          "metadata": {
            "needs_background": "light"
          }
        }
      ]
    },
    {
      "cell_type": "code",
      "source": [
        "data.insert(0, 'Ones', 1)\n",
        "print('new data = \\n' ,data.head(10) )"
      ],
      "metadata": {
        "colab": {
          "base_uri": "https://localhost:8080/"
        },
        "id": "IChaf5NUsQFS",
        "outputId": "775195dc-2d21-4717-c862-cf43af1d4b5e"
      },
      "execution_count": 5,
      "outputs": [
        {
          "output_type": "stream",
          "name": "stdout",
          "text": [
            "new data = \n",
            "    Ones  Population   Profit\n",
            "0     1      6.1101  17.5920\n",
            "1     1      5.5277   9.1302\n",
            "2     1      8.5186  13.6620\n",
            "3     1      7.0032  11.8540\n",
            "4     1      5.8598   6.8233\n",
            "5     1      8.3829  11.8860\n",
            "6     1      7.4764   4.3483\n",
            "7     1      8.5781  12.0000\n",
            "8     1      6.4862   6.5987\n",
            "9     1      5.0546   3.8166\n"
          ]
        }
      ]
    },
    {
      "cell_type": "code",
      "source": [
        "# separate X (training data) from y (target variable)\n",
        "cols = data.shape[1]\n",
        "X = data.iloc[:,0:cols-1]\n",
        "y = data.iloc[:,cols-1:cols]\n",
        "print('**************************************')\n",
        "print('X data = \\n' ,X.head(10) )\n",
        "print('y data = \\n' ,y.head(10) )"
      ],
      "metadata": {
        "colab": {
          "base_uri": "https://localhost:8080/"
        },
        "id": "pIje4mowsZv2",
        "outputId": "7741e156-c636-429d-c2ce-48b254dcaf3b"
      },
      "execution_count": 7,
      "outputs": [
        {
          "output_type": "stream",
          "name": "stdout",
          "text": [
            "**************************************\n",
            "X data = \n",
            "    Ones  Population\n",
            "0     1      6.1101\n",
            "1     1      5.5277\n",
            "2     1      8.5186\n",
            "3     1      7.0032\n",
            "4     1      5.8598\n",
            "5     1      8.3829\n",
            "6     1      7.4764\n",
            "7     1      8.5781\n",
            "8     1      6.4862\n",
            "9     1      5.0546\n",
            "y data = \n",
            "     Profit\n",
            "0  17.5920\n",
            "1   9.1302\n",
            "2  13.6620\n",
            "3  11.8540\n",
            "4   6.8233\n",
            "5  11.8860\n",
            "6   4.3483\n",
            "7  12.0000\n",
            "8   6.5987\n",
            "9   3.8166\n"
          ]
        }
      ]
    },
    {
      "cell_type": "code",
      "source": [
        "# convert from data frames to numpy matrices\n",
        "X = np.matrix(X)\n",
        "y = np.matrix(y)\n",
        "theta = np.matrix(np.array([0,0]))\n",
        "print('X \\n',X)\n",
        "print('X.shape = ' , X.shape)\n",
        "print('theta \\n',theta)\n",
        "print('theta.shape = ' , theta.shape)\n",
        "print('y \\n',y)\n",
        "print('y.shape = ' , y.shape)"
      ],
      "metadata": {
        "colab": {
          "base_uri": "https://localhost:8080/"
        },
        "id": "vFWJM2icsioa",
        "outputId": "b12cfe8a-9db7-4c5d-deab-dbffa75c1c07"
      },
      "execution_count": 18,
      "outputs": [
        {
          "output_type": "stream",
          "name": "stdout",
          "text": [
            "X \n",
            " [[ 1.      6.1101]\n",
            " [ 1.      5.5277]\n",
            " [ 1.      8.5186]\n",
            " [ 1.      7.0032]\n",
            " [ 1.      5.8598]\n",
            " [ 1.      8.3829]\n",
            " [ 1.      7.4764]\n",
            " [ 1.      8.5781]\n",
            " [ 1.      6.4862]\n",
            " [ 1.      5.0546]\n",
            " [ 1.      5.7107]\n",
            " [ 1.     14.164 ]\n",
            " [ 1.      5.734 ]\n",
            " [ 1.      8.4084]\n",
            " [ 1.      5.6407]\n",
            " [ 1.      5.3794]\n",
            " [ 1.      6.3654]\n",
            " [ 1.      5.1301]\n",
            " [ 1.      6.4296]\n",
            " [ 1.      7.0708]\n",
            " [ 1.      6.1891]\n",
            " [ 1.     20.27  ]\n",
            " [ 1.      5.4901]\n",
            " [ 1.      6.3261]\n",
            " [ 1.      5.5649]\n",
            " [ 1.     18.945 ]\n",
            " [ 1.     12.828 ]\n",
            " [ 1.     10.957 ]\n",
            " [ 1.     13.176 ]\n",
            " [ 1.     22.203 ]\n",
            " [ 1.      5.2524]\n",
            " [ 1.      6.5894]\n",
            " [ 1.      9.2482]\n",
            " [ 1.      5.8918]\n",
            " [ 1.      8.2111]\n",
            " [ 1.      7.9334]\n",
            " [ 1.      8.0959]\n",
            " [ 1.      5.6063]\n",
            " [ 1.     12.836 ]\n",
            " [ 1.      6.3534]\n",
            " [ 1.      5.4069]\n",
            " [ 1.      6.8825]\n",
            " [ 1.     11.708 ]\n",
            " [ 1.      5.7737]\n",
            " [ 1.      7.8247]\n",
            " [ 1.      7.0931]\n",
            " [ 1.      5.0702]\n",
            " [ 1.      5.8014]\n",
            " [ 1.     11.7   ]\n",
            " [ 1.      5.5416]\n",
            " [ 1.      7.5402]\n",
            " [ 1.      5.3077]\n",
            " [ 1.      7.4239]\n",
            " [ 1.      7.6031]\n",
            " [ 1.      6.3328]\n",
            " [ 1.      6.3589]\n",
            " [ 1.      6.2742]\n",
            " [ 1.      5.6397]\n",
            " [ 1.      9.3102]\n",
            " [ 1.      9.4536]\n",
            " [ 1.      8.8254]\n",
            " [ 1.      5.1793]\n",
            " [ 1.     21.279 ]\n",
            " [ 1.     14.908 ]\n",
            " [ 1.     18.959 ]\n",
            " [ 1.      7.2182]\n",
            " [ 1.      8.2951]\n",
            " [ 1.     10.236 ]\n",
            " [ 1.      5.4994]\n",
            " [ 1.     20.341 ]\n",
            " [ 1.     10.136 ]\n",
            " [ 1.      7.3345]\n",
            " [ 1.      6.0062]\n",
            " [ 1.      7.2259]\n",
            " [ 1.      5.0269]\n",
            " [ 1.      6.5479]\n",
            " [ 1.      7.5386]\n",
            " [ 1.      5.0365]\n",
            " [ 1.     10.274 ]\n",
            " [ 1.      5.1077]\n",
            " [ 1.      5.7292]\n",
            " [ 1.      5.1884]\n",
            " [ 1.      6.3557]\n",
            " [ 1.      9.7687]\n",
            " [ 1.      6.5159]\n",
            " [ 1.      8.5172]\n",
            " [ 1.      9.1802]\n",
            " [ 1.      6.002 ]\n",
            " [ 1.      5.5204]\n",
            " [ 1.      5.0594]\n",
            " [ 1.      5.7077]\n",
            " [ 1.      7.6366]\n",
            " [ 1.      5.8707]\n",
            " [ 1.      5.3054]\n",
            " [ 1.      8.2934]\n",
            " [ 1.     13.394 ]\n",
            " [ 1.      5.4369]]\n",
            "X.shape =  (97, 2)\n",
            "theta \n",
            " [[0 0]]\n",
            "theta.shape =  (1, 2)\n",
            "y \n",
            " [[17.592  ]\n",
            " [ 9.1302 ]\n",
            " [13.662  ]\n",
            " [11.854  ]\n",
            " [ 6.8233 ]\n",
            " [11.886  ]\n",
            " [ 4.3483 ]\n",
            " [12.     ]\n",
            " [ 6.5987 ]\n",
            " [ 3.8166 ]\n",
            " [ 3.2522 ]\n",
            " [15.505  ]\n",
            " [ 3.1551 ]\n",
            " [ 7.2258 ]\n",
            " [ 0.71618]\n",
            " [ 3.5129 ]\n",
            " [ 5.3048 ]\n",
            " [ 0.56077]\n",
            " [ 3.6518 ]\n",
            " [ 5.3893 ]\n",
            " [ 3.1386 ]\n",
            " [21.767  ]\n",
            " [ 4.263  ]\n",
            " [ 5.1875 ]\n",
            " [ 3.0825 ]\n",
            " [22.638  ]\n",
            " [13.501  ]\n",
            " [ 7.0467 ]\n",
            " [14.692  ]\n",
            " [24.147  ]\n",
            " [-1.22   ]\n",
            " [ 5.9966 ]\n",
            " [12.134  ]\n",
            " [ 1.8495 ]\n",
            " [ 6.5426 ]\n",
            " [ 4.5623 ]\n",
            " [ 4.1164 ]\n",
            " [ 3.3928 ]\n",
            " [10.117  ]\n",
            " [ 5.4974 ]\n",
            " [ 0.55657]\n",
            " [ 3.9115 ]\n",
            " [ 5.3854 ]\n",
            " [ 2.4406 ]\n",
            " [ 6.7318 ]\n",
            " [ 1.0463 ]\n",
            " [ 5.1337 ]\n",
            " [ 1.844  ]\n",
            " [ 8.0043 ]\n",
            " [ 1.0179 ]\n",
            " [ 6.7504 ]\n",
            " [ 1.8396 ]\n",
            " [ 4.2885 ]\n",
            " [ 4.9981 ]\n",
            " [ 1.4233 ]\n",
            " [-1.4211 ]\n",
            " [ 2.4756 ]\n",
            " [ 4.6042 ]\n",
            " [ 3.9624 ]\n",
            " [ 5.4141 ]\n",
            " [ 5.1694 ]\n",
            " [-0.74279]\n",
            " [17.929  ]\n",
            " [12.054  ]\n",
            " [17.054  ]\n",
            " [ 4.8852 ]\n",
            " [ 5.7442 ]\n",
            " [ 7.7754 ]\n",
            " [ 1.0173 ]\n",
            " [20.992  ]\n",
            " [ 6.6799 ]\n",
            " [ 4.0259 ]\n",
            " [ 1.2784 ]\n",
            " [ 3.3411 ]\n",
            " [-2.6807 ]\n",
            " [ 0.29678]\n",
            " [ 3.8845 ]\n",
            " [ 5.7014 ]\n",
            " [ 6.7526 ]\n",
            " [ 2.0576 ]\n",
            " [ 0.47953]\n",
            " [ 0.20421]\n",
            " [ 0.67861]\n",
            " [ 7.5435 ]\n",
            " [ 5.3436 ]\n",
            " [ 4.2415 ]\n",
            " [ 6.7981 ]\n",
            " [ 0.92695]\n",
            " [ 0.152  ]\n",
            " [ 2.8214 ]\n",
            " [ 1.8451 ]\n",
            " [ 4.2959 ]\n",
            " [ 7.2029 ]\n",
            " [ 1.9869 ]\n",
            " [ 0.14454]\n",
            " [ 9.0551 ]\n",
            " [ 0.61705]]\n",
            "y.shape =  (97, 1)\n"
          ]
        }
      ]
    },
    {
      "cell_type": "code",
      "source": [
        "# cost function\n",
        "def computeCost(X, y, theta):\n",
        "    z = np.power(((X * theta.T) - y), 2)\n",
        "    # print('z \\n',z)\n",
        "    # print('m ' ,len(X))\n",
        "    return np.sum(z) / (2 * len(X))\n",
        "print('computeCost(X, y, theta) = ' , computeCost(X, y, theta))"
      ],
      "metadata": {
        "colab": {
          "base_uri": "https://localhost:8080/"
        },
        "id": "Mu9BH8eEt0wG",
        "outputId": "5e1a968d-1679-4ed7-90ce-49e7d9e04299"
      },
      "execution_count": 19,
      "outputs": [
        {
          "output_type": "stream",
          "name": "stdout",
          "text": [
            "computeCost(X, y, theta) =  32.072733877455676\n"
          ]
        }
      ]
    },
    {
      "cell_type": "code",
      "source": [
        "def gradientDescent(X, y, theta, alpha, iters):\n",
        "    temp = np.matrix(np.zeros(theta.shape))\n",
        "    parameters = int(theta.ravel().shape[1])\n",
        "    cost = np.zeros(iters)\n",
        "    for i in range(iters):\n",
        "        error = (X * theta.T) - y\n",
        "        for j in range(parameters):\n",
        "            term = np.multiply(error, X[:,j])\n",
        "            temp[0,j] = theta[0,j] - ((alpha / len(X)) * np.sum(term))\n",
        "        theta = temp\n",
        "        cost[i] = computeCost(X, y, theta)\n",
        "    return theta, cost\n",
        "alpha = 0.01\n",
        "iters = 10000\n",
        "# perform gradient descent to \"fit\" the model parameters\n",
        "g, cost = gradientDescent(X, y, theta, alpha, iters)\n",
        "print('g = ' , g)\n",
        "print('cost = ' , cost[0:50] )\n",
        "print('computeCost = ' , computeCost(X, y, g))\n"
      ],
      "metadata": {
        "colab": {
          "base_uri": "https://localhost:8080/"
        },
        "id": "iGDZnon3u4eb",
        "outputId": "5d2a220d-2e89-4cba-bd1e-9406aa2f257d"
      },
      "execution_count": 23,
      "outputs": [
        {
          "output_type": "stream",
          "name": "stdout",
          "text": [
            "g =  [[-3.89578082  1.19303364]]\n",
            "cost =  [6.73719046 5.93159357 5.90115471 5.89522859 5.89009494 5.88500416\n",
            " 5.87993248 5.87487909 5.86984391 5.86482687 5.85982789 5.85484692\n",
            " 5.84988389 5.84493874 5.8400114  5.83510181 5.8302099  5.82533562\n",
            " 5.82047889 5.81563965 5.81081784 5.8060134  5.80122627 5.79645638\n",
            " 5.79170367 5.78696808 5.78224955 5.77754801 5.77286341 5.76819568\n",
            " 5.76354477 5.75891061 5.75429313 5.7496923  5.74510803 5.74054027\n",
            " 5.73598897 5.73145406 5.72693549 5.72243319 5.71794711 5.71347718\n",
            " 5.70902336 5.70458558 5.70016379 5.69575792 5.69136792 5.68699373\n",
            " 5.6826353  5.67829257]\n",
            "computeCost =  4.476971375975179\n"
          ]
        }
      ]
    },
    {
      "cell_type": "code",
      "source": [
        "x = np.linspace(data.Population.min(), data.Population.max(), 100)\n",
        "print('x \\n',x)\n",
        "print('g \\n',g)\n",
        "f = g[0, 0] + (g[0, 1] * x)\n",
        "print('f \\n',f)\n",
        "# draw the line\n",
        "fig, ax = plt.subplots(figsize=(5,5))\n",
        "ax.plot(x, f, 'r', label='Prediction')\n",
        "ax.scatter(data.Population, data.Profit, label='Traning Data')\n",
        "ax.legend(loc=2)\n",
        "ax.set_xlabel('Population')\n",
        "ax.set_ylabel('Profit')\n",
        "ax.set_title('Predicted Profit vs. Population Size')"
      ],
      "metadata": {
        "colab": {
          "base_uri": "https://localhost:8080/",
          "height": 1000
        },
        "id": "8ZFPjiNZwefF",
        "outputId": "9fa8f902-b58e-46dd-a880-228314d21849"
      },
      "execution_count": 24,
      "outputs": [
        {
          "output_type": "stream",
          "name": "stdout",
          "text": [
            "x \n",
            " [ 5.0269      5.20039596  5.37389192  5.54738788  5.72088384  5.8943798\n",
            "  6.06787576  6.24137172  6.41486768  6.58836364  6.7618596   6.93535556\n",
            "  7.10885152  7.28234747  7.45584343  7.62933939  7.80283535  7.97633131\n",
            "  8.14982727  8.32332323  8.49681919  8.67031515  8.84381111  9.01730707\n",
            "  9.19080303  9.36429899  9.53779495  9.71129091  9.88478687 10.05828283\n",
            " 10.23177879 10.40527475 10.57877071 10.75226667 10.92576263 11.09925859\n",
            " 11.27275455 11.44625051 11.61974646 11.79324242 11.96673838 12.14023434\n",
            " 12.3137303  12.48722626 12.66072222 12.83421818 13.00771414 13.1812101\n",
            " 13.35470606 13.52820202 13.70169798 13.87519394 14.0486899  14.22218586\n",
            " 14.39568182 14.56917778 14.74267374 14.9161697  15.08966566 15.26316162\n",
            " 15.43665758 15.61015354 15.78364949 15.95714545 16.13064141 16.30413737\n",
            " 16.47763333 16.65112929 16.82462525 16.99812121 17.17161717 17.34511313\n",
            " 17.51860909 17.69210505 17.86560101 18.03909697 18.21259293 18.38608889\n",
            " 18.55958485 18.73308081 18.90657677 19.08007273 19.25356869 19.42706465\n",
            " 19.60056061 19.77405657 19.94755253 20.12104848 20.29454444 20.4680404\n",
            " 20.64153636 20.81503232 20.98852828 21.16202424 21.3355202  21.50901616\n",
            " 21.68251212 21.85600808 22.02950404 22.203     ]\n",
            "g \n",
            " [[-3.89578082  1.19303364]]\n",
            "f \n",
            " [ 2.10147998  2.30846649  2.51545301  2.72243952  2.92942604  3.13641256\n",
            "  3.34339907  3.55038559  3.7573721   3.96435862  4.17134514  4.37833165\n",
            "  4.58531817  4.79230468  4.9992912   5.20627772  5.41326423  5.62025075\n",
            "  5.82723726  6.03422378  6.24121029  6.44819681  6.65518333  6.86216984\n",
            "  7.06915636  7.27614287  7.48312939  7.69011591  7.89710242  8.10408894\n",
            "  8.31107545  8.51806197  8.72504849  8.932035    9.13902152  9.34600803\n",
            "  9.55299455  9.75998107  9.96696758 10.1739541  10.38094061 10.58792713\n",
            " 10.79491364 11.00190016 11.20888668 11.41587319 11.62285971 11.82984622\n",
            " 12.03683274 12.24381926 12.45080577 12.65779229 12.8647788  13.07176532\n",
            " 13.27875184 13.48573835 13.69272487 13.89971138 14.1066979  14.31368442\n",
            " 14.52067093 14.72765745 14.93464396 15.14163048 15.348617   15.55560351\n",
            " 15.76259003 15.96957654 16.17656306 16.38354957 16.59053609 16.79752261\n",
            " 17.00450912 17.21149564 17.41848215 17.62546867 17.83245519 18.0394417\n",
            " 18.24642822 18.45341473 18.66040125 18.86738777 19.07437428 19.2813608\n",
            " 19.48834731 19.69533383 19.90232035 20.10930686 20.31629338 20.52327989\n",
            " 20.73026641 20.93725292 21.14423944 21.35122596 21.55821247 21.76519899\n",
            " 21.9721855  22.17917202 22.38615854 22.59314505]\n"
          ]
        },
        {
          "output_type": "execute_result",
          "data": {
            "text/plain": [
              "Text(0.5, 1.0, 'Predicted Profit vs. Population Size')"
            ]
          },
          "metadata": {},
          "execution_count": 24
        },
        {
          "output_type": "display_data",
          "data": {
            "text/plain": [
              "<Figure size 360x360 with 1 Axes>"
            ],
            "image/png": "[encoded data removed]"
          },
          "metadata": {
            "needs_background": "light"
          }
        }
      ]
    },
    {
      "cell_type": "markdown",
      "source": [
        "# **Regression For More Than One Variable**"
      ],
      "metadata": {
        "id": "-XjxitICxeWI"
      }
    },
    {
      "cell_type": "code",
      "source": [
        "path = '/content/drive/MyDrive/ex1data2.txt'\n",
        "data = pd.read_csv(path, header=None, names=['Size', 'Bedrooms', 'Price'])\n",
        "print('Data= \\n',data.head(10))\n",
        "print('Data= \\n',data.describe())"
      ],
      "metadata": {
        "colab": {
          "base_uri": "https://localhost:8080/"
        },
        "id": "ejsDZuB_xlge",
        "outputId": "96a6f291-8699-43b3-d89a-fe6b6e245823"
      },
      "execution_count": 25,
      "outputs": [
        {
          "output_type": "stream",
          "name": "stdout",
          "text": [
            "Data= \n",
            "    Size  Bedrooms   Price\n",
            "0  2104         3  399900\n",
            "1  1600         3  329900\n",
            "2  2400         3  369000\n",
            "3  1416         2  232000\n",
            "4  3000         4  539900\n",
            "5  1985         4  299900\n",
            "6  1534         3  314900\n",
            "7  1427         3  198999\n",
            "8  1380         3  212000\n",
            "9  1494         3  242500\n",
            "Data= \n",
            "               Size   Bedrooms          Price\n",
            "count    47.000000  47.000000      47.000000\n",
            "mean   2000.680851   3.170213  340412.659574\n",
            "std     794.702354   0.760982  125039.899586\n",
            "min     852.000000   1.000000  169900.000000\n",
            "25%    1432.000000   3.000000  249900.000000\n",
            "50%    1888.000000   3.000000  299900.000000\n",
            "75%    2269.000000   4.000000  384450.000000\n",
            "max    4478.000000   5.000000  699900.000000\n"
          ]
        }
      ]
    },
    {
      "cell_type": "code",
      "source": [
        "# Data Rescalling\n",
        "data = (data-data.mean())/data.std()\n",
        "print('Data= \\n',data.head(10))\n",
        "print('Data= \\n',data.describe())"
      ],
      "metadata": {
        "colab": {
          "base_uri": "https://localhost:8080/"
        },
        "id": "tVVr2YaYx10r",
        "outputId": "c151201f-574f-450a-8bdc-b6b36089941a"
      },
      "execution_count": 27,
      "outputs": [
        {
          "output_type": "stream",
          "name": "stdout",
          "text": [
            "Data= \n",
            "        Size  Bedrooms     Price\n",
            "0  0.130010 -0.223675  0.475747\n",
            "1 -0.504190 -0.223675 -0.084074\n",
            "2  0.502476 -0.223675  0.228626\n",
            "3 -0.735723 -1.537767 -0.867025\n",
            "4  1.257476  1.090417  1.595389\n",
            "5 -0.019732  1.090417 -0.323998\n",
            "6 -0.587240 -0.223675 -0.204036\n",
            "7 -0.721881 -0.223675 -1.130948\n",
            "8 -0.781023 -0.223675 -1.026973\n",
            "9 -0.637573 -0.223675 -0.783051\n",
            "Data= \n",
            "             Size      Bedrooms         Price\n",
            "count  47.000000  4.700000e+01  4.700000e+01\n",
            "mean    0.000000  1.830687e-17 -3.543265e-17\n",
            "std     1.000000  1.000000e+00  1.000000e+00\n",
            "min    -1.445423 -2.851859e+00 -1.363666e+00\n",
            "25%    -0.715590 -2.236752e-01 -7.238702e-01\n",
            "50%    -0.141790 -2.236752e-01 -3.239979e-01\n",
            "75%     0.337635  1.090417e+00  3.521863e-01\n",
            "max     3.117292  2.404508e+00  2.874981e+00\n"
          ]
        }
      ]
    },
    {
      "cell_type": "code",
      "source": [
        "#Add ones column\n",
        "data.insert(0, 'ones', 1)"
      ],
      "metadata": {
        "id": "gf0Tp5drx8bc"
      },
      "execution_count": 28,
      "outputs": []
    },
    {
      "cell_type": "code",
      "source": [
        "# separate X (training data) from y (target variable)\n",
        "cols = data.shape[1]\n",
        "X = data.iloc[:, 0:cols-1]\n",
        "y = data.iloc[:,cols-1:cols]\n",
        "print('X data = \\n' ,X.head(10) )\n",
        "print('y data = \\n' ,y.head(10) )\n"
      ],
      "metadata": {
        "colab": {
          "base_uri": "https://localhost:8080/"
        },
        "id": "KDuGcYJ8x_H0",
        "outputId": "7b76e8a8-1bf7-46b4-96fa-cbaa4046f189"
      },
      "execution_count": 29,
      "outputs": [
        {
          "output_type": "stream",
          "name": "stdout",
          "text": [
            "X data = \n",
            "    ones      Size  Bedrooms\n",
            "0     1  0.130010 -0.223675\n",
            "1     1 -0.504190 -0.223675\n",
            "2     1  0.502476 -0.223675\n",
            "3     1 -0.735723 -1.537767\n",
            "4     1  1.257476  1.090417\n",
            "5     1 -0.019732  1.090417\n",
            "6     1 -0.587240 -0.223675\n",
            "7     1 -0.721881 -0.223675\n",
            "8     1 -0.781023 -0.223675\n",
            "9     1 -0.637573 -0.223675\n",
            "y data = \n",
            "       Price\n",
            "0  0.475747\n",
            "1 -0.084074\n",
            "2  0.228626\n",
            "3 -0.867025\n",
            "4  1.595389\n",
            "5 -0.323998\n",
            "6 -0.204036\n",
            "7 -1.130948\n",
            "8 -1.026973\n",
            "9 -0.783051\n"
          ]
        }
      ]
    },
    {
      "cell_type": "code",
      "source": [
        "# convert to matrices and initialize theta\n",
        "X = np.matrix(X)\n",
        "y = np.matrix(y)\n",
        "theta = np.matrix(np.array([0,0,0]))"
      ],
      "metadata": {
        "id": "U7XirFobyCwY"
      },
      "execution_count": 31,
      "outputs": []
    },
    {
      "cell_type": "code",
      "source": [
        "def computeCost(X, y, theta):\n",
        "    inner = np.power(((X * theta.T) - y), 2)\n",
        "    return np.sum(inner) / (2 * len(X))"
      ],
      "metadata": {
        "id": "JtxbZRW8yHMf"
      },
      "execution_count": 32,
      "outputs": []
    },
    {
      "cell_type": "code",
      "source": [
        "def gradientDescent(X, y, theta, alpha, iters):\n",
        "    temp = np.matrix(np.zeros(theta.shape))\n",
        "    parameters = int(theta.ravel().shape[1])\n",
        "    cost = np.zeros(iters)\n",
        "    for i in range(iters):\n",
        "        error = (X*theta.T)-y\n",
        "        for j in range(parameters):\n",
        "            term = np.multiply(error, X[:,j])\n",
        "            temp[0,j] = theta[0,j] - ((alpha / len(X)) * np.sum(term))\n",
        "        theta = temp\n",
        "        cost[i] = computeCost(X, y, theta)\n",
        "    return theta, cost"
      ],
      "metadata": {
        "id": "-JN9JWycyJY9"
      },
      "execution_count": 33,
      "outputs": []
    },
    {
      "cell_type": "code",
      "source": [
        "alpha = 0.01\n",
        "iters = 100\n",
        "g, cost = gradientDescent(X, y, theta, alpha, iters)\n",
        "print('New Theta= ',g)\n",
        "print('The Cost= ',computeCost(X, y, g))"
      ],
      "metadata": {
        "colab": {
          "base_uri": "https://localhost:8080/"
        },
        "id": "bPUxzCDTyX6u",
        "outputId": "1d43c75e-1c2a-4176-ff31-986ba1db6616"
      },
      "execution_count": 38,
      "outputs": [
        {
          "output_type": "stream",
          "name": "stdout",
          "text": [
            "New Theta=  [[-1.70076719e-17  4.90915551e-01  1.62136650e-01]]\n",
            "The Cost=  0.1828065051987115\n"
          ]
        }
      ]
    },
    {
      "cell_type": "code",
      "source": [
        "# get best fit line for Size vs. Price\n",
        "x = np.linspace(data.Size.min(), data.Size.max(), 100)\n",
        "# print('x \\n',x)\n",
        "f = g[0, 0] + (g[0, 1] * x)\n",
        "# print('f \\n',f)\n",
        "# draw the line for Size vs. Price\n",
        "fig, ax = plt.subplots(figsize=(5,5))\n",
        "ax.plot(x, f, 'r', label='Prediction')\n",
        "ax.scatter(data.Size, data.Price, label='Training Data')\n",
        "ax.legend(loc=2)\n",
        "ax.set_xlabel('Size')\n",
        "ax.set_ylabel('Price')\n",
        "ax.set_title('Size vs. Price')"
      ],
      "metadata": {
        "colab": {
          "base_uri": "https://localhost:8080/",
          "height": 367
        },
        "id": "R1YWYAxNymV8",
        "outputId": "110fc45e-ec36-40d8-a14d-80325c375e34"
      },
      "execution_count": 39,
      "outputs": [
        {
          "output_type": "execute_result",
          "data": {
            "text/plain": [
              "Text(0.5, 1.0, 'Size vs. Price')"
            ]
          },
          "metadata": {},
          "execution_count": 39
        },
        {
          "output_type": "display_data",
          "data": {
            "text/plain": [
              "<Figure size 360x360 with 1 Axes>"
            ],
            "image/png": "[encoded data removed]"
          },
          "metadata": {
            "needs_background": "light"
          }
        }
      ]
    },
    {
      "cell_type": "code",
      "source": [
        "# get best fit line for Bedrooms vs. Price\n",
        "x = np.linspace(data.Bedrooms.min(), data.Bedrooms.max(), 100)\n",
        "# print('x \\n',x)\n",
        "f = g[0, 0] + (g[0, 1] * x)\n",
        "# print('f \\n',f)\n",
        "# draw the line for Bedrooms vs. Price\n",
        "fig, ax = plt.subplots(figsize=(5,5))\n",
        "ax.plot(x, f, 'r', label='Prediction')\n",
        "ax.scatter(data.Bedrooms, data.Price, label='Traning Data')\n",
        "ax.legend(loc=2)\n",
        "ax.set_xlabel('Bedrooms')\n",
        "ax.set_ylabel('Price')\n",
        "ax.set_title('Size vs. Price')"
      ],
      "metadata": {
        "colab": {
          "base_uri": "https://localhost:8080/",
          "height": 367
        },
        "id": "65vcgbD2ytQX",
        "outputId": "48c48c79-ac3e-4550-e478-c2449b5ca7a3"
      },
      "execution_count": 40,
      "outputs": [
        {
          "output_type": "execute_result",
          "data": {
            "text/plain": [
              "Text(0.5, 1.0, 'Size vs. Price')"
            ]
          },
          "metadata": {},
          "execution_count": 40
        },
        {
          "output_type": "display_data",
          "data": {
            "text/plain": [
              "<Figure size 360x360 with 1 Axes>"
            ],
            "image/png": "[encoded data removed]"
          },
          "metadata": {
            "needs_background": "light"
          }
        }
      ]
    },
    {
      "cell_type": "code",
      "source": [
        "\n",
        "# draw error graph\n",
        "fig, ax = plt.subplots(figsize=(5,5))\n",
        "ax.plot(np.arange(iters), cost, 'r')\n",
        "ax.set_xlabel('Iterations')\n",
        "ax.set_ylabel('Cost')\n",
        "ax.set_title('Error vs. Training Epoch')\n"
      ],
      "metadata": {
        "id": "vJzJDVyZy17E",
        "outputId": "fa9a5d1d-89c2-4c8c-8545-ba81e0f7905b",
        "colab": {
          "base_uri": "https://localhost:8080/",
          "height": 367
        }
      },
      "execution_count": 41,
      "outputs": [
        {
          "output_type": "execute_result",
          "data": {
            "text/plain": [
              "Text(0.5, 1.0, 'Error vs. Training Epoch')"
            ]
          },
          "metadata": {},
          "execution_count": 41
        },
        {
          "output_type": "display_data",
          "data": {
            "text/plain": [
              "<Figure size 360x360 with 1 Axes>"
            ],
            "image/png": "[encoded data removed]"
          },
          "metadata": {
            "needs_background": "light"
          }
        }
      ]
    }
  ]
}